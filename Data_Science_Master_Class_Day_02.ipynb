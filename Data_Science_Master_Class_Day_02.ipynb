{
  "nbformat": 4,
  "nbformat_minor": 0,
  "metadata": {
    "colab": {
      "provenance": []
    },
    "kernelspec": {
      "name": "python3",
      "display_name": "Python 3"
    },
    "language_info": {
      "name": "python"
    }
  },
  "cells": [
    {
      "cell_type": "markdown",
      "source": [
        "## Loops Statement\n",
        "1. while loop\n",
        "2. for loop\n",
        "3. nested loop\n",
        "4. Loop control(Break, continue, pass)\n"
      ],
      "metadata": {
        "id": "73RYFtIdSexT"
      }
    },
    {
      "cell_type": "code",
      "execution_count": 3,
      "metadata": {
        "colab": {
          "base_uri": "https://localhost:8080/"
        },
        "id": "VbOum4fISGiM",
        "outputId": "61475c7e-8351-4897-8d56-27134c362d7f"
      },
      "outputs": [
        {
          "output_type": "stream",
          "name": "stdout",
          "text": [
            "25\n",
            "26\n",
            "27\n",
            "28\n",
            "29\n",
            "30\n",
            "31\n",
            "32\n",
            "33\n",
            "34\n",
            "35\n",
            "36\n",
            "37\n",
            "38\n",
            "39\n",
            "40\n",
            "41\n",
            "42\n",
            "43\n",
            "44\n",
            "45\n",
            "46\n",
            "47\n",
            "48\n",
            "49\n",
            "50\n",
            "51\n",
            "52\n",
            "53\n",
            "54\n",
            "55\n",
            "56\n",
            "57\n",
            "58\n",
            "59\n",
            "60\n",
            "Its time for retirement\n"
          ]
        }
      ],
      "source": [
        "Joining_age = 25\n",
        "while Joining_age<=60:\n",
        "  print(Joining_age)\n",
        "  Joining_age=Joining_age+1\n",
        "\n",
        "else:\n",
        "  print(\"Its time for retirement\")"
      ]
    },
    {
      "cell_type": "code",
      "source": [
        "total_amount=1000\n",
        "while total_amount!=0:\n",
        "  print(total_amount)\n",
        "  total_amount=total_amount-100\n",
        "else:\n",
        "  print(\"Put more money bank people\")\n",
        "\n",
        "print(\"Hello All\")"
      ],
      "metadata": {
        "colab": {
          "base_uri": "https://localhost:8080/"
        },
        "id": "_ZnhPHC3SbP4",
        "outputId": "cab9a356-b122-4793-f6e3-3850f30ffcc3"
      },
      "execution_count": 4,
      "outputs": [
        {
          "output_type": "stream",
          "name": "stdout",
          "text": [
            "1000\n",
            "900\n",
            "800\n",
            "700\n",
            "600\n",
            "500\n",
            "400\n",
            "300\n",
            "200\n",
            "100\n",
            "Put more money bank people\n",
            "Hello All\n"
          ]
        }
      ]
    },
    {
      "cell_type": "code",
      "source": [
        "n=7\n",
        "\n",
        "for i in range(0,n):\n",
        "  for j in range(0,i+1):\n",
        "      print(\"*\",end=\" \")\n",
        "  print(\"\\n\"\"\\r\")"
      ],
      "metadata": {
        "colab": {
          "base_uri": "https://localhost:8080/"
        },
        "id": "yR1W-mJLa7LF",
        "outputId": "8f4232f2-a144-4ee2-dc02-23ad9d58525b"
      },
      "execution_count": 37,
      "outputs": [
        {
          "output_type": "stream",
          "name": "stdout",
          "text": [
            "* \n",
            "\r\n",
            "* * \n",
            "\r\n",
            "* * * \n",
            "\r\n",
            "* * * * \n",
            "\r\n",
            "* * * * * \n",
            "\r\n",
            "* * * * * * \n",
            "\r\n",
            "* * * * * * * \n",
            "\r\n"
          ]
        }
      ]
    },
    {
      "cell_type": "code",
      "source": [
        "fruits_list = [\"Mango\", \"Cherry\", \"Apple\", \"Papaya\", \"Banana\"]"
      ],
      "metadata": {
        "id": "xxd2XB4zQuh6"
      },
      "execution_count": 1,
      "outputs": []
    },
    {
      "cell_type": "code",
      "source": [
        "for i in fruits_list:\n",
        "  if i==\"Apple\":\n",
        "    print(\"The fruit is apple\")\n",
        "    break\n",
        "  print(i)"
      ],
      "metadata": {
        "colab": {
          "base_uri": "https://localhost:8080/"
        },
        "id": "P1dfLmucyLg8",
        "outputId": "30967fe2-2998-4ed7-9094-33e9974fee9b"
      },
      "execution_count": 2,
      "outputs": [
        {
          "output_type": "stream",
          "name": "stdout",
          "text": [
            "Mango\n",
            "Cherry\n",
            "The fruit is apple\n"
          ]
        }
      ]
    },
    {
      "cell_type": "code",
      "source": [
        "for i in fruits_list:\n",
        "  if i==\"Apple\":\n",
        "    print(\"The fruit is apple\")\n",
        "    pass\n",
        "  print(i)"
      ],
      "metadata": {
        "colab": {
          "base_uri": "https://localhost:8080/"
        },
        "id": "m_0C0uRtyb5X",
        "outputId": "efedc734-4565-4ac9-e52e-f027faf8f6cf"
      },
      "execution_count": 3,
      "outputs": [
        {
          "output_type": "stream",
          "name": "stdout",
          "text": [
            "Mango\n",
            "Cherry\n",
            "The fruit is apple\n",
            "Apple\n",
            "Papaya\n",
            "Banana\n"
          ]
        }
      ]
    },
    {
      "cell_type": "code",
      "source": [
        "for i in fruits_list:\n",
        "  if i==\"Apple\":\n",
        "    print(\"The fruit is apple\")\n",
        "    continue\n",
        "  print(i)"
      ],
      "metadata": {
        "colab": {
          "base_uri": "https://localhost:8080/"
        },
        "id": "50HmMsOIyt_b",
        "outputId": "604caef4-3f5a-45e8-d26c-986c7a6efb2d"
      },
      "execution_count": 4,
      "outputs": [
        {
          "output_type": "stream",
          "name": "stdout",
          "text": [
            "Mango\n",
            "Cherry\n",
            "The fruit is apple\n",
            "Papaya\n",
            "Banana\n"
          ]
        }
      ]
    }
  ]
}