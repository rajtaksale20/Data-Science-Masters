{
  "nbformat": 4,
  "nbformat_minor": 0,
  "metadata": {
    "colab": {
      "provenance": []
    },
    "kernelspec": {
      "name": "python3",
      "display_name": "Python 3"
    },
    "language_info": {
      "name": "python"
    }
  },
  "cells": [
    {
      "cell_type": "code",
      "execution_count": 1,
      "metadata": {
        "id": "I7drMhmM38CT"
      },
      "outputs": [],
      "source": [
        "name = 'Raj'"
      ]
    },
    {
      "cell_type": "code",
      "source": [
        "name\n"
      ],
      "metadata": {
        "colab": {
          "base_uri": "https://localhost:8080/",
          "height": 35
        },
        "id": "2aDjcYNvwI16",
        "outputId": "4f136f2a-f396-4628-f3ed-1d232aa16818"
      },
      "execution_count": 2,
      "outputs": [
        {
          "output_type": "execute_result",
          "data": {
            "text/plain": [
              "'Raj'"
            ],
            "application/vnd.google.colaboratory.intrinsic+json": {
              "type": "string"
            }
          },
          "metadata": {},
          "execution_count": 2
        }
      ]
    },
    {
      "cell_type": "code",
      "source": [
        "name = \"Raj\"\n",
        "age = 32\n",
        "print(\"My name is {} and age is {}\".format(name,age))"
      ],
      "metadata": {
        "colab": {
          "base_uri": "https://localhost:8080/"
        },
        "id": "MmUUBtx2wL42",
        "outputId": "e63c58a4-42d7-4df8-b84a-18cd246ca849"
      },
      "execution_count": 3,
      "outputs": [
        {
          "output_type": "stream",
          "name": "stdout",
          "text": [
            "My name is Raj and age is 32\n"
          ]
        }
      ]
    },
    {
      "cell_type": "code",
      "source": [
        "name = \"Raj\"\n",
        "age = 32\n",
        "print(\"My name is {} and age is {}\".format(age, name))"
      ],
      "metadata": {
        "colab": {
          "base_uri": "https://localhost:8080/"
        },
        "id": "qnJP-Zm9waOP",
        "outputId": "c323be87-49db-44ce-a2f8-f99fc742b084"
      },
      "execution_count": 4,
      "outputs": [
        {
          "output_type": "stream",
          "name": "stdout",
          "text": [
            "My name is 32 and age is Raj\n"
          ]
        }
      ]
    },
    {
      "cell_type": "code",
      "source": [
        "#placeholder\n",
        "print(\"My name is {firstname} and age is {firstage}\".format(firstage=age, firstname=name))"
      ],
      "metadata": {
        "colab": {
          "base_uri": "https://localhost:8080/"
        },
        "id": "xaRdZdf6wgfp",
        "outputId": "8af81e0f-3d6b-47d0-a799-0e9f3fc2cbd2"
      },
      "execution_count": 8,
      "outputs": [
        {
          "output_type": "stream",
          "name": "stdout",
          "text": [
            "My name is Raj and age is 32\n"
          ]
        }
      ]
    },
    {
      "cell_type": "code",
      "source": [
        "name = \"Raj Taksale\"\n",
        "age = 32\n",
        "degree = \"BE\"\n",
        "print(\"My age is {firstage} and i have completed: my degree of {firstdegree} with the name of {firstname}\".format(firstage=age, firstname=name, firstdegree=degree))"
      ],
      "metadata": {
        "colab": {
          "base_uri": "https://localhost:8080/"
        },
        "id": "MB55kTVfw1MO",
        "outputId": "c46f03ef-9345-4326-a886-bef7a9207919"
      },
      "execution_count": 10,
      "outputs": [
        {
          "output_type": "stream",
          "name": "stdout",
          "text": [
            "My age is 32 and i have completed: my degree of BE with the name of Raj Taksale\n"
          ]
        }
      ]
    },
    {
      "cell_type": "code",
      "source": [
        "name = \"Raj Taksale\"\n",
        "age = 32\n",
        "degree = \"BE\"\n",
        "print(\"My age is {} and i have completed: my degree {} with the name of {}\".format(age, degree, name))"
      ],
      "metadata": {
        "colab": {
          "base_uri": "https://localhost:8080/"
        },
        "id": "ZPoFZY2-yF0y",
        "outputId": "c0e630af-1de6-4682-d41e-f2c1df1d62d1"
      },
      "execution_count": 12,
      "outputs": [
        {
          "output_type": "stream",
          "name": "stdout",
          "text": [
            "My age is 32 and i have completed: my degree BE with the name of Raj Taksale\n"
          ]
        }
      ]
    },
    {
      "cell_type": "code",
      "source": [
        "input()"
      ],
      "metadata": {
        "colab": {
          "base_uri": "https://localhost:8080/",
          "height": 53
        },
        "id": "tlTz8IwlyHFO",
        "outputId": "04de9f34-7882-4837-98d7-5b881fa3c32a"
      },
      "execution_count": 13,
      "outputs": [
        {
          "name": "stdout",
          "output_type": "stream",
          "text": [
            "32\n"
          ]
        },
        {
          "output_type": "execute_result",
          "data": {
            "text/plain": [
              "'32'"
            ],
            "application/vnd.google.colaboratory.intrinsic+json": {
              "type": "string"
            }
          },
          "metadata": {},
          "execution_count": 13
        }
      ]
    },
    {
      "cell_type": "code",
      "source": [
        "age = int(input(\"Enter your age\"))\n",
        "if age >=18 and age <=45:\n",
        "  print(\"You are young blood\")\n",
        "else:\n",
        "  print(\"You are not young blood\")"
      ],
      "metadata": {
        "colab": {
          "base_uri": "https://localhost:8080/"
        },
        "id": "uc0ezyeH3zrm",
        "outputId": "3e4a0cb1-8d8c-4bdf-9e73-58e12a071cb9"
      },
      "execution_count": 18,
      "outputs": [
        {
          "output_type": "stream",
          "name": "stdout",
          "text": [
            "Enter your age46\n",
            "You are not young blood\n"
          ]
        }
      ]
    },
    {
      "cell_type": "code",
      "source": [
        "productprice = int(input(\"Enter the product price\"))\n",
        "if productprice>1000:\n",
        "  discount_percentage = 20\n",
        "  discount_amount = discount_percentage / 100 * productprice\n",
        "  discount_price = productprice - discount_amount\n",
        "  print(\"The product price after 20% discount:\",discount_price)\n",
        "if productprice<1000:\n",
        "  discount_percentage = 30\n",
        "  discount_amount = discount_percentage / 100 * productprice\n",
        "  discount_price = productprice - discount_amount\n",
        "  print(\"The product price after 30% discount:\",discount_price)"
      ],
      "metadata": {
        "colab": {
          "base_uri": "https://localhost:8080/"
        },
        "id": "zR4bBLWN37Iu",
        "outputId": "3506bbf1-6912-404a-8ae3-bd7a9d244a85"
      },
      "execution_count": 47,
      "outputs": [
        {
          "output_type": "stream",
          "name": "stdout",
          "text": [
            "Enter the product price500\n",
            "The product price after 30% discount: 350.0\n"
          ]
        }
      ]
    },
    {
      "cell_type": "code",
      "source": [
        "product_price = int(input(\"Enter the product price\"))\n",
        "if product_price>1000:\n",
        "  print(\"The price of the product is {}\".format(product_price*0.8))\n",
        "else:\n",
        "  print(\"The price of the product is {}\".format(product_price*0.7))"
      ],
      "metadata": {
        "colab": {
          "base_uri": "https://localhost:8080/"
        },
        "id": "z3ehfhcC9sYZ",
        "outputId": "9d437d7a-1109-4dfd-f0c7-814d3611d2a1"
      },
      "execution_count": 3,
      "outputs": [
        {
          "output_type": "stream",
          "name": "stdout",
          "text": [
            "Enter the product price500\n",
            "The price of the product is 350.0\n"
          ]
        }
      ]
    },
    {
      "cell_type": "code",
      "source": [
        "product_price = int(input(\"Enter the price\"))\n",
        "if product_price>3000:\n",
        "  print(f\"The price of the product is {product_price*0.8}\")\n",
        "elif product_price>=2000 and product_price<=3000:\n",
        "  print(f\"The price of the product is {product_price*0.7}\")\n",
        "else:\n",
        "  print(\"The price of the product is {}\".format(product_price*0.6))"
      ],
      "metadata": {
        "colab": {
          "base_uri": "https://localhost:8080/"
        },
        "id": "-OD1pcskEtYV",
        "outputId": "21d75c3a-58a1-4a65-ca88-3fd9fe9c2a86"
      },
      "execution_count": 2,
      "outputs": [
        {
          "output_type": "stream",
          "name": "stdout",
          "text": [
            "Enter the price1000\n",
            "The price of the product is 600.0\n"
          ]
        }
      ]
    }
  ]
}